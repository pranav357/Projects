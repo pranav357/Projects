{
 "cells": [
  {
   "cell_type": "markdown",
   "metadata": {},
   "source": [
    "# <font color = \"red\">[READ THIS] Before you start</font>\n",
    "Welcome to UpLevel DIY projects! In this series, you're challenged to independently work (with our guidance) with data that you will collect to UpLevel yourself. \n",
    "\n",
    "We hope you're excited to embark on this adventure.\n",
    "### Warning:\n",
    "This isn't just any coding course or programmes, where you receive helper code as you move from one code block to another. \n",
    "\n",
    "This is when things get <em>real</em>.\n",
    "\n",
    "In this project, you will receive instructions to execute a task along with an intended outcome. Most importantly, we will provide you with directions you can go to, to pick up code independently and implement it in this notebook.\n",
    "\n",
    "Don't worry though, we'll be dropping lots of resources you can consult and these readings will contain everything you need to succeed. You can also perform independent research to find answers independently. You just have to read closely and pick out the parts that make most sense. \n",
    "\n",
    "<strong>We make you do this not because we're lazy bastards but because being able to indepedently find code is a highly underrated skill and that's something all companies look out for.</strong>\n",
    "\n",
    "If you're really stuck and are on the verge of giving up, we gotchu fam. Head on over to bit.ly/UpLevelSG and post your questions there. \n",
    "\n",
    "### What we'll be doing:\n",
    "In this project, we will do the following:\n",
    "\n",
    "1.  Retrieving, cleaning, and organizing the dataset (Part I)\n",
    "2.  Replicating the Data and Methods section of the research paper (Part II)\n",
    "3.  Replicating the Results section of the research paper (Part III)\n",
    "4.  Simulating a cuisine network evolution model (Part IV)\n",
    "\n",
    "### Expectations:\n",
    "We're not going to sugarcoat it - it'll be challenging at times. You have to promise to put in the time and effort to UpLevel yourself. \n",
    "\n",
    "But we promise you that it'll ultimately be fun and rewarding, and you'll come out of it stronger and more confident than before."
   ]
  },
  {
   "cell_type": "markdown",
   "metadata": {},
   "source": [
    "<div style=\"background-color: #78E8A3; padding: 20px\">\n",
    "    <h3>Project Scenario</h3>\n",
    "    <p>You're a food research who is curious about the relationship between geographical regions and their cuisines.</p>\n",
    "    <p>The best way to do is to turn to recipes and network analysis to see if there is such a relationship in the first place.</p>\n",
    "    <p>The good news, there was a research publication published in 2013 that can help you out. The bad news, the research was conducted entirely in MATLAB so you'll have to reproduce the research in Python.</p>\n",
    "</div>"
   ]
  },
  {
   "cell_type": "markdown",
   "metadata": {},
   "source": [
    "### Step 1: Read research publication on food network\n",
    "As mentioned, there was a research publication in 2013 on the relationship between ingredients and geographical locations.\n",
    "\n",
    "![ResearchPublication](https://uplevelsg.s3-ap-southeast-1.amazonaws.com/ProjectCuisineNetwork/ResearchPublication.png)\n",
    "\n",
    "Head on to this <a href=\"https://journals.plos.org/plosone/article?id=10.1371/journal.pone.0079161\">link</a> for a read."
   ]
  },
  {
   "cell_type": "markdown",
   "metadata": {},
   "source": [
    "### Step 2: Download files from research Github repository\n",
    "Once you're done with reading the publication, head on to the <a href=\"https://github.com/zhuyuxiao/Chinese-cuisine\">author's reposity</a> to download the research data.\n",
    "\n",
    "You can either clone the repo, or download the entire repo as a zip file. Both are fine, as long as you have this folder structure in the end:\n",
    "\n",
    "```\n",
    "CourseMaterials\n",
    "│   Project Cuisine Network (Part I).ipynb\n",
    "│   Project Cuisine Network (Part II).ipynb\n",
    "│   Project Cuisine Network (Part III).ipynb   \n",
    "│   Project Cuisine Network (Part IV).ipynb    \n",
    "│   Project Cuisine Network (Part V).ipynb    \n",
    "│\n",
    "├── dataset\n",
    "│   ├── cuisine_recipe_ingredient\n",
    "│   │   ├── chuancai_network.txt\n",
    "│   │   ├── ...\n",
    "│   │   └── zhecai_network.txt\n",
    "│   │\n",
    "│   ├── recipe_id\n",
    "│   │   ├── chuancai_recipe_id.txt\n",
    "│   │   ├── ...\n",
    "│   │   └── zhecai_recipe_id.txt\n",
    "│   │\n",
    "│   ├── zuofa\n",
    "│   │   ├── chuancai_zhuofa.txt\n",
    "│   │   ├── ...\n",
    "│   │   └── zhecai_zhuofa.txt\n",
    "│   │\n",
    "│   ├── component_id.txt\n",
    "│   └── README.txt\n",
    "│\n",
    "└── ...\n",
    "```\n",
    "We'll need to acces the files found in the \"dataset\" folder."
   ]
  },
  {
   "cell_type": "markdown",
   "metadata": {},
   "source": [
    "### Step 3: Import and install libraries\n",
    "Import the following libraries.\n",
    "- pandas as pd\n",
    "- glob\n",
    "\n",
    "If you encounter an error importing them, go ahead and pip install them in either your Anaconda Prompt or Terminal."
   ]
  },
  {
   "cell_type": "code",
   "execution_count": null,
   "metadata": {},
   "outputs": [],
   "source": [
    "# Step 3: Import libraries"
   ]
  },
  {
   "cell_type": "markdown",
   "metadata": {},
   "source": [
    "## Converting .txt to CSV\n",
    "In this Section, we will convert files found in the \"dataset\" folder into CSV files so that can work with the data more easily in subsequent Parts."
   ]
  },
  {
   "cell_type": "markdown",
   "metadata": {},
   "source": [
    "### Step 4: Get a list of all .txt files in \"cuisine_recipe_ingredient\" folder\n",
    "Using the glob library, get a list containing all of the .txt files in the cuisine_recipe_ingredient folder. "
   ]
  },
  {
   "cell_type": "code",
   "execution_count": null,
   "metadata": {},
   "outputs": [],
   "source": [
    "# Step 4: Get a list of .txt files in cuisine_recipe_ingredient folder"
   ]
  },
  {
   "cell_type": "markdown",
   "metadata": {},
   "source": [
    "<details>\n",
    "    <summary><strong>Click here once for hint if you can't get your list of .txt files</strong></summary>\n",
    "    <div>Google \"find all files in a directory with extension .txt in Python\"</div>\n",
    "</details>"
   ]
  },
  {
   "cell_type": "markdown",
   "metadata": {},
   "source": [
    "### Step 5: Read the first file\n",
    "Using pandas' .read_csv, read the first file in the list — chuancai_network.txt — into a DataFrame.\n",
    "\n",
    "Assuming that you didn't put any parameters, what do you see?"
   ]
  },
  {
   "cell_type": "code",
   "execution_count": null,
   "metadata": {},
   "outputs": [],
   "source": [
    "# Step 5: Use .read_csv to read the first item on the list"
   ]
  },
  {
   "cell_type": "markdown",
   "metadata": {},
   "source": [
    "<details>\n",
    "    <summary><strong>Click here once to see what we think</strong></summary>\n",
    "    <ol>\n",
    "        <li>The columns are separated by \\t, meaning you will have to set a \"sep\" parameter</li>\n",
    "        <li>0\\t1 is the header, which means you have to supply your own headers</li>\n",
    "    </ol>\n",
    "</details>"
   ]
  },
  {
   "cell_type": "markdown",
   "metadata": {},
   "source": [
    "### Step 6: Repeat Step 5 with additional parameters\n",
    "To read the the file properly, we'll have to add a few things:\n",
    "1. sep - '\\t'\n",
    "2. names - 'recipe_id' and 'ingredient'\n",
    "\n",
    "![AddSepAddHeader](https://uplevelsg.s3-ap-southeast-1.amazonaws.com/ProjectCuisineNetwork/AddSepAddHeader.png)\n",
    "\n",
    "If you do it right, you'll get a proper chuancai_network.txt DataFrame that has\n",
    "- 12,068 rows\n",
    "- 2 columns"
   ]
  },
  {
   "cell_type": "code",
   "execution_count": null,
   "metadata": {},
   "outputs": [],
   "source": [
    "# Step 6: Get the correct DataFrame for chuancai_network"
   ]
  },
  {
   "cell_type": "markdown",
   "metadata": {},
   "source": [
    "## Convert all of the xxx_network.txt files to CSV\n",
    "Now that we've figured out how to turn the .txt files into CSV, we'll work on the following things:\n",
    "1. Create a folder named \"cuisine_recipe_ingredient_CSV\"\n",
    "2. Loop through the list of .txt files in \"cuisine_recipe_ingredient\"\n",
    "3. And convert the .txt to .csv\n",
    "\n",
    "We'll end up with a folder that looks something like this:\n",
    "```\n",
    "CourseMaterials\n",
    "│   Project Cuisine Network (Part I).ipynb\n",
    "│   Project Cuisine Network (Part II).ipynb\n",
    "│   Project Cuisine Network (Part III).ipynb   \n",
    "│   Project Cuisine Network (Part IV).ipynb    \n",
    "│   Project Cuisine Network (Part V).ipynb    \n",
    "│\n",
    "├── dataset\n",
    "│\n",
    "├── cuisine_recipe_ingredient_CSV\n",
    "│   ├── chuancai.csv\n",
    "│   ├── ...\n",
    "│   └── zhecai.csv\n",
    "│\n",
    "└── ...\n",
    "```\n",
    "\n",
    "### Step 7: Create a folder named \"cuisine_recipe_ingredient_CSV\"\n",
    "With reference to the folder structure shown above, create a folder named \"cuisine_recipe_ingredient_CSV\". "
   ]
  },
  {
   "cell_type": "markdown",
   "metadata": {},
   "source": [
    "### [Optional] Devise strategy to get cuisine name from Step 4 list\n",
    "This part is optional but it helps to get you thinking about obtaining the cuisine name from the strings in the list you got from Step 4.\n",
    "\n",
    "More specifically, consider how you can do something like:\n",
    "```\n",
    "\"chuancai_network.txt\"\n",
    "->\n",
    "\"chuancai\"\n",
    "```\n",
    "There are many ways to do this:\n",
    "1. splitting the string and retrieving only the cuisine name\n",
    "2. regex\n",
    "3. good old manual typing of cuisine name\n",
    "\n",
    "\n",
    "This Step will be useful because we'll be saving CSVs with the same cuisine name in the subsequent Steps."
   ]
  },
  {
   "cell_type": "code",
   "execution_count": null,
   "metadata": {},
   "outputs": [],
   "source": [
    "# Optional: Figure out the string manipulation steps involved in getting the cuisine names"
   ]
  },
  {
   "cell_type": "markdown",
   "metadata": {},
   "source": [
    "### Step 8: Loop, create, and export the DataFrames to CSVs\n",
    "Using what you did in Steps 4-6 and optional Step above, you will now loop through the list of file names and read each .txt file into a CSV followed by exporting it into the \"cuisine_recipe_ingredient_CSV\" folder."
   ]
  },
  {
   "cell_type": "code",
   "execution_count": null,
   "metadata": {
    "scrolled": true
   },
   "outputs": [],
   "source": [
    "# Step 8: Create DataFrames from .txt and then export as CSVs"
   ]
  },
  {
   "cell_type": "markdown",
   "metadata": {},
   "source": [
    "<details>\n",
    "    <summary><strong>Cick here once for pseudocode if you're stuck</strong></summary>\n",
    "    <ol>\n",
    "        <li>Loop through the filenames in the Step 4 list. In each loop:</li>\n",
    "        <ul>\n",
    "            <li>Read the CSV of the current filename, with the sep and names parameter filled</li>\n",
    "            <li>From the filename, get the string containing the region, i.e. \"chuancai\" from \"chuancai_network.txt\"</li>\n",
    "            <li>Turn the DataFrame to a .CSV file in the \"cuisine_recipe_ingredient_CSV\" folder with .to_csv</li>\n",
    "        </ul>\n",
    "    </ol>\n",
    "</details>"
   ]
  },
  {
   "cell_type": "markdown",
   "metadata": {},
   "source": [
    "### Step 9: Test the results of Step 8\n",
    "Now that you have loop through the .txt files, converted them into DataFrames, and subsequently exported them as CSVs into another folder, let's test the export to see if it worked.\n",
    "\n",
    "Read \"chuancai.csv\" into a DataFrame, and see if it worked as you intended."
   ]
  },
  {
   "cell_type": "code",
   "execution_count": null,
   "metadata": {},
   "outputs": [],
   "source": [
    "# Step 9: Read chuancai.csv from cuisine_recipe_ingredient_CSV"
   ]
  },
  {
   "cell_type": "markdown",
   "metadata": {},
   "source": [
    "### End of Part I\n",
    "Woohoo, we're off to a good start. \n",
    "\n",
    "In this Part, you:\n",
    "- got acquainted with the research publication\n",
    "- retrieved the dataset from the publication\n",
    "- formatted the dataset into something familiar and easier to work with\n",
    "\n",
    "Next Part, we'll start replicating the research found in the paper. It will be fun because there are techniques covered that you wouldn't normally encounter otherwise. "
   ]
  }
 ],
 "metadata": {
  "kernelspec": {
   "display_name": "Python 3",
   "language": "python",
   "name": "python3"
  },
  "language_info": {
   "codemirror_mode": {
    "name": "ipython",
    "version": 3
   },
   "file_extension": ".py",
   "mimetype": "text/x-python",
   "name": "python",
   "nbconvert_exporter": "python",
   "pygments_lexer": "ipython3",
   "version": "3.8.5"
  }
 },
 "nbformat": 4,
 "nbformat_minor": 4
}

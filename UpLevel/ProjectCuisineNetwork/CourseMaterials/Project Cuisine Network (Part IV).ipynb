{
 "cells": [
  {
   "cell_type": "markdown",
   "metadata": {},
   "source": [
    "# Introduction\n",
    "In Part I, we collected data and organized them for use in subsequent Parts. \n",
    "\n",
    "In Parts II and III, we replicated the figures found in \"Data and Methods\" and \"Results\". \n",
    "\n",
    "In Part IV, we replicate the simulation that the authors used to investigate cuisine evolution. The exciting part (or horrifying part depending on how you see it) is that we have to figure everything out ourself based on the publication.\n",
    "\n",
    "Part IV is slightly unusual because it will test your object-oriented programming to the limits, instead of the usual UpLevel data-oriented tasks. \n",
    "\n",
    "Don't worry though, we'll help you as much as we can. \n",
    "\n",
    "To make things manageable, we'll break the simulation down in its various components and tackle them slowly. \n",
    "\n",
    "Namely, we will:\n",
    "1. Read the paper closely\n",
    "2. Design and write classes for Cuisine, Recipe, and Ingredient\n",
    "3. Test if the classes are working properly\n",
    "4. Design and write helper functions\n",
    "4. Test the helper functions\n",
    "\n",
    "This will be one of the hardest Parts you'll be doing, so don't be discouraged if you don't get it right the first time round. Just keep at it and you'll succeed.\n",
    "\n",
    "<strong>We will provide code in full this time round as part of the hints, though we would advise reading it until either you're really stuck, or if you've completed the code and is curious how your implementation differs from ours.</strong>"
   ]
  },
  {
   "cell_type": "markdown",
   "metadata": {},
   "source": [
    "## Simulation preparation"
   ]
  },
  {
   "cell_type": "markdown",
   "metadata": {},
   "source": [
    "### Step 1: Read \"Model and Validation\" section very carefully\n",
    "Head on to the publication and read the section on \"Model and Validation\" very closely and carefully.\n",
    "\n",
    "![ModelAndValidationSection](https://uplevelsg.s3.ap-southeast-1.amazonaws.com/ProjectCuisineNetwork/ModelAndValidationSection.png)\n",
    "\n",
    "We can't emphasize this enough because you'll have to consider what are the moving parts required in the simulation."
   ]
  },
  {
   "cell_type": "markdown",
   "metadata": {},
   "source": [
    "### Step 2: Import libraries\n",
    "For this Part, import the following libraries:\n",
    "- pandas as pd\n",
    "- random as rd\n",
    "- numpy as np\n",
    "- attrgetter from operator\n",
    "- powerlaw\n",
    "- collections"
   ]
  },
  {
   "cell_type": "code",
   "execution_count": null,
   "metadata": {},
   "outputs": [],
   "source": [
    "# Step 2: Import libraries"
   ]
  },
  {
   "cell_type": "markdown",
   "metadata": {},
   "source": [
    "### Step 3: Declare parameter values\n",
    "The authors declared a few parameters to be used in the simulation, some derived from experimental data, e.g., K, and some derived arbitrarily, e.g., alpha.\n",
    "\n",
    "![SimulationParameters](https://uplevelsg.s3.ap-southeast-1.amazonaws.com/ProjectCuisineNetwork/SimulationParameters.png)\n",
    "\n",
    "Declare the following variables with values:\n",
    "1. N_i_final = 2911\n",
    "2. N_r = 8498\n",
    "3. K = 10\n",
    "4. K_prime = 2\n",
    "5. P_learn = 0.85\n",
    "\n",
    "On top of that, declare the following variables as well (check out why in the publication):\n",
    "- N_initial = 20\n",
    "- alpha = -5"
   ]
  },
  {
   "cell_type": "code",
   "execution_count": null,
   "metadata": {},
   "outputs": [],
   "source": [
    "# Step 3: Declare the variables"
   ]
  },
  {
   "cell_type": "markdown",
   "metadata": {},
   "source": [
    "## Designing objects\n",
    "In the simulation, there are three different things involved - cuisine, recipe, and ingredient. \n",
    "\n",
    "![ObjectArrangement](https://uplevelsg.s3.ap-southeast-1.amazonaws.com/ProjectCuisineNetwork/ObjectArrangement.png)\n",
    "\n",
    "We'll create classes for these things. \n",
    "\n",
    "A few points to take note of:\n",
    "1. Cuisine\n",
    "    - there are 19 cuisines instead of 20, because the \"other\" cuisine does not have topological information\n",
    "    - each cuisine contains recipes\n",
    "    - there is no limit to the number of recipes a cuisine can have\n",
    "    - each cuisine starts with 1 recipe at the start of the simulation\n",
    "\n",
    "2. Recipe\n",
    "    - the number of recipes is unlimited\n",
    "    - when a recipe is created, it picks 10 random Ingredients from the Ingredient pool\n",
    "    \n",
    "3. Ingredient\n",
    "    - the number of ingredients in the integredient pool is unlimited\n",
    "    - has an attribute called fitness, that is between 0 to 1 inclusive"
   ]
  },
  {
   "cell_type": "markdown",
   "metadata": {},
   "source": [
    "### Step 4: Create Ingredient class\n",
    "We'll start with Ingredient first. Declare a <font color = 'green'><strong>class</strong></font> called Ingredient, where it has the following parameters:\n",
    "\n",
    "---\n",
    "<strong><em>class</em> Ingredient()</strong>\n",
    "\n",
    "<strong>Attributes</strong>\n",
    "1. name : <em>integer</em> : increments by 1 every time you create an Ingredient\n",
    "\n",
    "2. fitness : <em>float</em> : random float between 0 to 1 inclusive\n",
    "\n",
    "---\n",
    "<strong>Examples:</strong>\n",
    "```\n",
    ">>> i1 = Ingredient()\n",
    ">>> i1\n",
    "<Ingredient 0>\n",
    "\n",
    ">> i1.name\n",
    "0\n",
    "\n",
    ">>> i1.fitness # can be any float between 0 to 1\n",
    "0.6548753155526552\n",
    "\n",
    ">>> i2 = Ingredient()\n",
    ">>> i2\n",
    "<Ingredient 1>\n",
    "\n",
    ">>>i1 == i1\n",
    "True\n",
    "\n",
    ">>>i1 == i2\n",
    "False\n",
    "\n",
    ">>>ingredient_list = [i1, i1, i2, i2]\n",
    ">>>print(ingredient_list)\n",
    "[<Ingredient 0>, <Ingredient 0>, <Ingredient 1>, <Ingredient 1>]\n",
    "\n",
    ">>>ingredient_set = set(ingredient_list)\n",
    "{<Ingredient 0>, <Ingredient 1>}\n",
    "```\n"
   ]
  },
  {
   "cell_type": "markdown",
   "metadata": {},
   "source": [
    "<details>\n",
    "    <summary><strong>Can't get \"&lt;Ingredient 1&gt;\" and are getting \"&lt;__main__.Ingredient object aat xxxxxxxxxxx&gt;\"? Click once for a hint</strong></summary>\n",
    "    You'll need __repr__ so that when you print the object, you get something like \"&lt;Ingredient x&gt;\"\n",
    "</details>"
   ]
  },
  {
   "cell_type": "markdown",
   "metadata": {},
   "source": [
    "<details>\n",
    "    <summary><strong>Still stuck? Click once again for another hint</strong></summary>\n",
    "    Google \"How to print instances of a class using print()\"?\n",
    "</details>"
   ]
  },
  {
   "cell_type": "markdown",
   "metadata": {},
   "source": [
    "<details>\n",
    "        <summary><strong>Need help on how to automatically increment name by 1 every time you create a new instance of Ingredient? Click here once for a hint.</strong></summary>\n",
    "    Google \"How to create a unique and incremental ID in a Python Class\" - you'll need to use a counter variable\n",
    "</details>"
   ]
  },
  {
   "cell_type": "markdown",
   "metadata": {},
   "source": [
    "<details>\n",
    "    <summary><strong>Tearing your hair out? Click once more for the actual code (not recommended unless you just want to check that you're on the right track)</strong></summary>\n",
    "    <img src = 'https://uplevelsg.s3.ap-southeast-1.amazonaws.com/ProjectCuisineNetwork/IngredientCodeFullV2.png'>\n",
    "</details>"
   ]
  },
  {
   "cell_type": "code",
   "execution_count": null,
   "metadata": {},
   "outputs": [],
   "source": [
    "# Step 4a: Create Ingredient class"
   ]
  },
  {
   "cell_type": "code",
   "execution_count": null,
   "metadata": {},
   "outputs": [],
   "source": [
    "# Step 4b: Test your Ingredient class (don't forget to reset by running Step 4a)"
   ]
  },
  {
   "cell_type": "markdown",
   "metadata": {},
   "source": [
    "### Step 5: Create pool of Ingredients\n",
    "Before the simulation starts running, there is mention of an initial pool of 20 ingredients.\n",
    "\n",
    "Declare a list named <strong>\"current_ingredient_pool\"</strong> containing 20 Ingredients objects. \n",
    "\n",
    "Make sure your first ingredient starts with 0 by running Step 4a again."
   ]
  },
  {
   "cell_type": "code",
   "execution_count": null,
   "metadata": {
    "scrolled": true
   },
   "outputs": [],
   "source": [
    "# Step 5: Create pool of ingredients"
   ]
  },
  {
   "cell_type": "code",
   "execution_count": null,
   "metadata": {},
   "outputs": [],
   "source": [
    "# Optional: Loop through the list and print the fitness attribute of each Ingredient object"
   ]
  },
  {
   "cell_type": "markdown",
   "metadata": {},
   "source": [
    "### Step 6: Create Recipe class\n",
    "Next, we continue with Recipe, where it has the following parameters:\n",
    "\n",
    "---\n",
    "<strong><em>class</em> Recipe()</strong>\n",
    "\n",
    "<strong>Attributes</strong>\n",
    "1. name : <em>integer</em>\n",
    "\n",
    "2. ingredients : <em>list</em> : stores a list of Ingredient objects\n",
    "\n",
    "<strong>Methods</strong>\n",
    "1. populateRecipeIngredients(current_ingredient_pool, K) : when called, picks K unique Ingredient objects from current_ingredient_pool.\n",
    "\n",
    "---\n",
    "<strong>Examples:</strong>\n",
    "```\n",
    ">>> r1 = Recipe()\n",
    ">>> r1\n",
    "<Recipe 0>\n",
    "\n",
    ">>> r2 = Recipe()\n",
    ">>> r2\n",
    "<Recipe 1>\n",
    "\n",
    ">>> r1.ingredients\n",
    "[]\n",
    "\n",
    ">>> r1.populateRecipeIngredients(current_ingredient_pool = current_ingredient_pool, K = K)\n",
    ">>> r1.ingredients # the ingredient number can be anywhere between 0 to 19\n",
    "[<Ingredient 3>,\n",
    " <Ingredient 15>,\n",
    " <Ingredient 5>,\n",
    " <Ingredient 11>,\n",
    " <Ingredient 8>,\n",
    " <Ingredient 14>,\n",
    " <Ingredient 1>,\n",
    " <Ingredient 7>,\n",
    " <Ingredient 10>,\n",
    " <Ingredient 16>]\n",
    "```"
   ]
  },
  {
   "cell_type": "markdown",
   "metadata": {},
   "source": [
    "<details>\n",
    "    <summary><strong>Not sure how to implement populateRecipeIngredients? Click once for a hint</strong></summary>\n",
    "    Use a while loop, along with the length of the set of Recipe.ingredients, and keep appending until you hit K number of Ingredients in Recipe.ingredients, from the pool of Ingredients.\n",
    "</details>"
   ]
  },
  {
   "cell_type": "markdown",
   "metadata": {},
   "source": [
    "<details>\n",
    "    <summary><strong>Still stuck with populateRecipeIngredients? Click once for pseudocode</strong></summary>\n",
    "    <ol>\n",
    "        <li><strong><font color='green'>def</font></strong></li> method <font color = 'blue'>populateRecipeIngredients</font> that have three arguments: self, current_ingredient_pool, and K\n",
    "        <ol>\n",
    "        <li>Use a while loop, that while the length of the set from self.ingredients is less than K:</li>\n",
    "        <ul>\n",
    "            <li>Append a random Ingredient from the current_ingredient_pool</li>\n",
    "            <li>Use list() and set() on self.ingredients to make sure that there are no duplicate Ingredients</li>\n",
    "        </ul>\n",
    "        </ol>\n",
    "    </ol>\n",
    "</details>"
   ]
  },
  {
   "cell_type": "markdown",
   "metadata": {},
   "source": [
    "<details>\n",
    "    <summary><strong>Click once more for the actual code (not recommended unless you just want to check that you're on the right track)</strong></summary>\n",
    "    <img src = 'https://uplevelsg.s3.ap-southeast-1.amazonaws.com/ProjectCuisineNetwork/RecipeCodeFull.png'>\n",
    "</details>"
   ]
  },
  {
   "cell_type": "code",
   "execution_count": null,
   "metadata": {},
   "outputs": [],
   "source": [
    "# Step 6a: Create Recipe class"
   ]
  },
  {
   "cell_type": "code",
   "execution_count": null,
   "metadata": {},
   "outputs": [],
   "source": [
    "# Step 6b: Test Recipe class out (don't forget to reset by running Step 6a)"
   ]
  },
  {
   "cell_type": "markdown",
   "metadata": {},
   "source": [
    "### Step 7: Create Cuisine class\n",
    "Finally, we create the Cuisine class. Declare a <font color = 'green'><strong>class</strong></font> called Cuisine, where it has the following parameters:\n",
    "\n",
    "---\n",
    "<strong><em>class</em> Cuisine(name = None)</strong>\n",
    "\n",
    "<strong>Attributes</strong>\n",
    "1. name : <em>integer</em>\n",
    "\n",
    "2. recipes : <em>list</em>\n",
    "---\n",
    "<strong>Examples:</strong>\n",
    "```\n",
    ">>> c1 = Cuisine(1)\n",
    ">>> c1.name\n",
    "1\n",
    "\n",
    ">>> c1.recipes\n",
    "[]\n",
    "\n",
    ">>> print(c1)\n",
    "<Cuisine 1>\n",
    "```"
   ]
  },
  {
   "cell_type": "code",
   "execution_count": null,
   "metadata": {},
   "outputs": [],
   "source": [
    "# Step 7a: Create Cuisine class"
   ]
  },
  {
   "cell_type": "code",
   "execution_count": null,
   "metadata": {},
   "outputs": [],
   "source": [
    "# Step 7b: Test the Cuisine class out"
   ]
  },
  {
   "cell_type": "markdown",
   "metadata": {},
   "source": [
    "<details>\n",
    "    <summary><strong>Click once more for the actual code (not recommended unless you just want to check that you're on the right track)</strong></summary>\n",
    "    <img src = 'https://uplevelsg.s3.ap-southeast-1.amazonaws.com/ProjectCuisineNetwork/CuisineCodeFullV2.png'>\n",
    "</details>"
   ]
  },
  {
   "cell_type": "markdown",
   "metadata": {},
   "source": [
    "### Step 8: Read topological distance.txt into a DataFrame\n",
    "Similar to the previous Part, read the file into a DataFrame.\n",
    "\n",
    "However, new instructions:\n",
    "- remove row 14\n",
    "- remove column 14\n",
    "\n",
    "Your DataFrame should look something like this:\n",
    "\n",
    "![TopologicalDistanceDataFrameClean.png](https://uplevelsg.s3.ap-southeast-1.amazonaws.com/ProjectCuisineNetwork/TopologicalDistanceDataFrameClean.png)\n",
    "\n",
    "Notice that row and column 14 are missing."
   ]
  },
  {
   "cell_type": "code",
   "execution_count": null,
   "metadata": {},
   "outputs": [],
   "source": [
    "# Step 8: Read topological distance.txt into a DataFrame"
   ]
  },
  {
   "cell_type": "markdown",
   "metadata": {},
   "source": [
    "### Step 9: Set up initial Cuisine / Recipe / Ingredient objects in cuisine_list\n",
    "Now that we have the classes set up, we can begin with creating the initial conditions. More specifically:\n",
    "- 19 Cuisine objects in a list, call it <strong>cuisine_list</strong>\n",
    "- 1 Recipe object in each cuisine at the start\n",
    "- 10 Ingredient objects in each Recipe, from the pool of 20 Ingredient objects\n",
    "---\n",
    "<strong>Examples:</strong>\n",
    "```\n",
    ">>> example_cuisine = cuisine_list[0]\n",
    ">>> example_cuisine\n",
    "<Cuisine 0>\n",
    "\n",
    ">>> cuisine_list[0].recipes\n",
    "[<Recipe 0>]\n",
    "\n",
    ">>> cuisine_list[0].recipes[0].ingredients\n",
    "[<Ingredient 19>,\n",
    " <Ingredient 3>,\n",
    " <Ingredient 12>,\n",
    " <Ingredient 5>,\n",
    " <Ingredient 8>,\n",
    " <Ingredient 14>,\n",
    " <Ingredient 4>,\n",
    " <Ingredient 13>,\n",
    " <Ingredient 10>,\n",
    " <Ingredient 0>]\n",
    "```"
   ]
  },
  {
   "cell_type": "code",
   "execution_count": null,
   "metadata": {},
   "outputs": [],
   "source": [
    "# Step 9a: Create cuisine_list"
   ]
  },
  {
   "cell_type": "code",
   "execution_count": null,
   "metadata": {},
   "outputs": [],
   "source": [
    "# Step 9b: Test your cuisine_list"
   ]
  },
  {
   "cell_type": "markdown",
   "metadata": {},
   "source": [
    "## Write helper functions\n",
    "To make the simulation more manageable, we will break it down into helper functions, functions that execute one part of the simulation.\n",
    "\n",
    "In this Section, you will be provided examples that you can try to replicate."
   ]
  },
  {
   "cell_type": "markdown",
   "metadata": {},
   "source": [
    "### Step 10: Create chooseCuisine function\n",
    "\n",
    "In the paper, you encounter this equation:\n",
    "\n",
    "![chooseCuisineEquation](https://uplevelsg.s3.ap-southeast-1.amazonaws.com/ProjectCuisineNetwork/chooseCuisineEquation.png)\n",
    "\n",
    "1. $p(c)$ : probability of cuisine c being chosen\n",
    "2. $N_r^c$ : number of recipes of cuisine c\n",
    "3. $N_r$ : number of recipes in all regional cuisines (all 19 of them)\n",
    "\n",
    "Define a function called chooseCuisine, where creates a list of probabilities of a Cuisine being chosen, and then chooses the Cuisine in the list based on that list of probability.\n",
    "\n",
    "You'll have to calculate 2 main things with a for-loop:\n",
    "- $N_r$ / N_r : the sum of recipes in ALL cuisines\n",
    "- $N_r^c$ / N_c_r : the current cuisine's recipe length (so you can calculate p(c))\n",
    "\n",
    "Don't be afraid to loop more than one - once for calculating N_r and one more for N_c_r.\n",
    "\n",
    "numpy.random.choice will be a very helpful method in this function, and subsequent functions. More details <a href = 'https://numpy.org/doc/stable/reference/random/generated/numpy.random.choice.html'>here</a>.\n",
    "\n",
    "---\n",
    "<strong>Examples:</strong>\n",
    "```\n",
    ">>> chooseCuisine(cuisine_list)\n",
    "<Cuisine 13> # can be any of the 19 cuisines\n",
    "```"
   ]
  },
  {
   "cell_type": "code",
   "execution_count": null,
   "metadata": {},
   "outputs": [],
   "source": [
    "# Step 10a: Create chooseCuisine"
   ]
  },
  {
   "cell_type": "code",
   "execution_count": null,
   "metadata": {},
   "outputs": [],
   "source": [
    "# Step 10b: Test chooseCuisine with your cuisine_list"
   ]
  },
  {
   "cell_type": "markdown",
   "metadata": {},
   "source": [
    "<details>\n",
    "    <summary><strong>Click once more for the actual code to see if you did chooseCuisine right</strong></summary>\n",
    "    <img src = 'https://uplevelsg.s3.ap-southeast-1.amazonaws.com/ProjectCuisineNetwork/chooseCuisineFullCode.png'>\n",
    "</details>"
   ]
  },
  {
   "cell_type": "markdown",
   "metadata": {},
   "source": [
    "### Step 11: Create interactBoolean function\n",
    "Create a function called interactBoolean, where it takes a probability P_learn, and returns a boolean.\n",
    "\n",
    "This function determines whether \n",
    "\n",
    "---\n",
    "<strong>Examples:</strong>\n",
    "```\n",
    ">>> interactBoolean(P_learn=P_learn) # P_learn = 0.85\n",
    "True # True was chosen with a probability of 0.85 from a list of True and False\n",
    "```"
   ]
  },
  {
   "cell_type": "code",
   "execution_count": null,
   "metadata": {},
   "outputs": [],
   "source": [
    "# Step 11a: Create interactBoolean"
   ]
  },
  {
   "cell_type": "code",
   "execution_count": null,
   "metadata": {},
   "outputs": [],
   "source": [
    "# Step 11b: Test interactBoolean"
   ]
  },
  {
   "cell_type": "markdown",
   "metadata": {},
   "source": [
    "<details>\n",
    "    <summary><strong>Click once more for the actual code to see if you did interactBoolean right</strong></summary>\n",
    "    <img src = 'https://uplevelsg.s3.ap-southeast-1.amazonaws.com/ProjectCuisineNetwork/interactBooleanFullCode.png'>\n",
    "</details>"
   ]
  },
  {
   "cell_type": "markdown",
   "metadata": {},
   "source": [
    "### Step 12: Create getTopoDist function\n",
    "Create a function called getTopoDist where you retrieve the topological distance from two regions using the DataFrame from Step 8.\n",
    "\n",
    "Bear in mind that the DataFrame is not symmetrical, so you might have to use an if/else and flip things around if the distance is 0.\n",
    "\n",
    "---\n",
    "<strong>Examples:</strong>\n",
    "```\n",
    ">>> getTopoDist(4, 0)\n",
    "3\n",
    "\n",
    ">>> getTopoDist(6, 2)\n",
    "1\n",
    "\n",
    ">>> getTopoDist(2, 15) # 0 according to topological distance.txt\n",
    "5 # distance between 2 and 15 still obtained\n",
    "```"
   ]
  },
  {
   "cell_type": "code",
   "execution_count": null,
   "metadata": {},
   "outputs": [],
   "source": [
    "# Step 12a: Create getTopoDist function"
   ]
  },
  {
   "cell_type": "code",
   "execution_count": null,
   "metadata": {},
   "outputs": [],
   "source": [
    "# Step 12b: Test getTopoDist with reference to the DataFrame from Step 8"
   ]
  },
  {
   "cell_type": "markdown",
   "metadata": {},
   "source": [
    "<details>\n",
    "    <summary><strong>Click once for a hint</strong></summary>\n",
    "    Distance between cuisine a and cuisine b is the same as cuisine b and cuisine a\n",
    "</details>"
   ]
  },
  {
   "cell_type": "markdown",
   "metadata": {},
   "source": [
    "<details>\n",
    "    <summary><strong>Click once more for the actual code to see if you did getTopoDist right</strong></summary>\n",
    "    <img src = 'https://uplevelsg.s3.ap-southeast-1.amazonaws.com/ProjectCuisineNetwork/getTopoDistFullCode.png'>\n",
    "</details>"
   ]
  },
  {
   "cell_type": "markdown",
   "metadata": {},
   "source": [
    "### Step 13: Create interactionProbability function\n",
    "In the publication, there is an equation that calculates the probability of a second cuisine <em>c'</em> chosen to interact with the main reference cuisine <em>c</em>\n",
    "\n",
    "![InteractionProbabilityEquation](https://uplevelsg.s3.ap-southeast-1.amazonaws.com/ProjectCuisineNetwork/interactionProbabilityEquation.png)\n",
    "\n",
    "For example, if Cuisine 2 is the chosen cuisine c, this equation can be used to calculate the probability that it will interact with Cuisine 0, Cuisine 1, Cuisine 3, ... , Cuisine 19. \n",
    "\n",
    "Create a function named interactionProbability with the following considerations in mind:\n",
    "1. $p(c')$ : the probability of another cuisine c' being chosen to interact with reference cuisine c\n",
    "2. $(1 + L_{c,c'})^\\alpha$ : 1 + the topological distance between main cuisine c and another cuisine c', raised to the power of alpha. Use getTopoDist function here\n",
    "3. $\\sum_{c'} (1 + L_{c,c'})^\\alpha$ : What's going on, you might ask? \n",
    "\n",
    "Explanation for 3:\n",
    "- Take a reference cuisine, e.g., Cuisine 3. $\\sum_{c'} (1 + L_{c,c'})^\\alpha$ is just\n",
    "\n",
    "$(1 + L_{3,0})^\\alpha$ + $(1 + L_{3,1})^\\alpha$ + $(1 + L_{3,2})^\\alpha$ + $(1 + L_{3,4})^\\alpha$ + ... + $(1 + L_{3,19})^\\alpha$\n",
    "\n",
    "Notice that there is no $(1 + L_{3,3})^\\alpha$.\n",
    "\n",
    "---\n",
    "<strong>Examples:</strong>\n",
    "```\n",
    ">>> cuisine_3 = cuisine_list[3]\n",
    ">>> cuisine_5 = cuisine_list[5]\n",
    ">>> interactionProbability(cuisine_3, cuisine_5)\n",
    "0.20973669291607555\n",
    "\n",
    ">>> for cuisine in cuisine_list:\n",
    "...     print(interaction_probability(cuisine_3, cuisine)\n",
    "0.20973669291607555\n",
    "0.006554271653627361\n",
    "0.006554271653627361\n",
    "6.711574173314418     # notice how improbable this figure is\n",
    "0.027619646803763036\n",
    "0.20973669291607555\n",
    "0.006554271653627361\n",
    "0.20973669291607555\n",
    "0.006554271653627361\n",
    "0.002147703735460614\n",
    "0.027619646803763036\n",
    "0.20973669291607555\n",
    "0.027619646803763036\n",
    "0.006554271653627361\n",
    "0.0003993320743329813\n",
    "0.006554271653627361\n",
    "0.006554271653627361\n",
    "0.027619646803763036\n",
    "0.002147703735460614\n",
    "```"
   ]
  },
  {
   "cell_type": "code",
   "execution_count": null,
   "metadata": {},
   "outputs": [],
   "source": [
    "# Step 13: Create interactionProbability function"
   ]
  },
  {
   "cell_type": "code",
   "execution_count": null,
   "metadata": {},
   "outputs": [],
   "source": [
    "# Step 13b: Test interactionProbability function"
   ]
  },
  {
   "cell_type": "markdown",
   "metadata": {},
   "source": [
    "<details>\n",
    "    <summary><strong>Click once for the actual code to see if you did interactionProbability right</strong></summary>\n",
    "    <img src = 'https://uplevelsg.s3.ap-southeast-1.amazonaws.com/ProjectCuisineNetwork/interactionProbabilityFullCode.png'>\n",
    "</details>"
   ]
  },
  {
   "cell_type": "markdown",
   "metadata": {},
   "source": [
    "### Step 14: Create chooseAnotherCuisine function\n",
    "Now that we are able to generate probabilities for cuisine pairs, let's create a function called chooseAnotherCuisine. \n",
    "\n",
    "What does chooseAnotherCuisine do? \n",
    "\n",
    "It takes in one argument - main_cuisine, and returns another cuisine to interact with it, according to the probabilities generated by interactionProbability function.\n",
    "\n",
    "Approach this like Step 10's chooseCuisine, and you should be ok.\n",
    "\n",
    "---\n",
    "<strong>Examples:</strong>\n",
    "```\n",
    ">>> cuisine_0 = cuisine_list[0]\n",
    ">>> chooseAnotherCuisine(cuisine_0)\n",
    "<Cuisine 18>\n",
    "\n",
    ">>> for _ in range(10): # check the topo distance DataFrame to guess which cuisines are picked \n",
    "...     print(chooseAnotherCuisine(cuisine_list[0]))\n",
    "<Cuisine 7>\n",
    "<Cuisine 18>\n",
    "<Cuisine 3>\n",
    "<Cuisine 3>\n",
    "<Cuisine 7>\n",
    "<Cuisine 5>\n",
    "<Cuisine 7>\n",
    "<Cuisine 3>\n",
    "<Cuisine 7>\n",
    "<Cuisine 3>\n",
    "```"
   ]
  },
  {
   "cell_type": "code",
   "execution_count": null,
   "metadata": {},
   "outputs": [],
   "source": [
    "# Step 14a: Create chooseAnotherCuisine"
   ]
  },
  {
   "cell_type": "code",
   "execution_count": null,
   "metadata": {},
   "outputs": [],
   "source": [
    "# Step 14b: Test chooseAnotherCuisine function"
   ]
  },
  {
   "cell_type": "markdown",
   "metadata": {},
   "source": [
    "<details>\n",
    "    <summary><strong>Click once for our chooseAnotherCuisine code</strong></summary>\n",
    "    <img src = 'https://uplevelsg.s3.ap-southeast-1.amazonaws.com/ProjectCuisineNetwork/chooseAnotherCuisineFullCode.png'>\n",
    "</details>"
   ]
  },
  {
   "cell_type": "markdown",
   "metadata": {},
   "source": [
    "### Step 15: Create getNrt function\n",
    "We'll need to create a function that can get the total number of recipes at the current stage of the simulation.\n",
    "\n",
    "It will take in one argument, i.e. the cuisine list, and loop through the list to tally the number of recipes.\n",
    "\n",
    "---\n",
    "<strong>Examples:</strong>\n",
    "```\n",
    ">>> getNrt(cuisine_list) # the list from Step 9\n",
    "19\n",
    "```"
   ]
  },
  {
   "cell_type": "code",
   "execution_count": null,
   "metadata": {},
   "outputs": [],
   "source": [
    "# Step 15a: Create getNrt function"
   ]
  },
  {
   "cell_type": "code",
   "execution_count": null,
   "metadata": {},
   "outputs": [],
   "source": [
    "# Step 15b: Test getNrt function with cuisine_list"
   ]
  },
  {
   "cell_type": "markdown",
   "metadata": {},
   "source": [
    "<details>\n",
    "    <summary><strong>Click once for the getNrt code, for reference</strong></summary>\n",
    "    <img src = 'https://uplevelsg.s3.ap-southeast-1.amazonaws.com/ProjectCuisineNetwork/getNrtFullCode.png'>\n",
    "</details>"
   ]
  },
  {
   "cell_type": "markdown",
   "metadata": {},
   "source": [
    "### Step 16: Create isGenerateNewIngredient function\n",
    "The research paper also mentions the generation of new ingredients in the ingredient pool, with the probability of:\n",
    "\n",
    "![isGenerateNewIngredientEquation](https://uplevelsg.s3.ap-southeast-1.amazonaws.com/ProjectCuisineNetwork/isGenerateNewIngredientEquation.png)\n",
    "\n",
    "The probability is determined by four components:\n",
    "1. $N_i$ : the final number of ingredients (this is N_i_final that we declared above)\n",
    "2. $N_r$ : the final number of recipes (this is N_r that we declared above)\n",
    "3. $N_i(t)$ : the total number of ingredients in the current ingredient pool at the current stage of the simulation\n",
    "4. $N_r(t)$ : the total number of recipes in all cuisines at the current stage of the simulation\n",
    "\n",
    "The function returns True or False. getNrt function from Step 15 will be useful.\n",
    "\n",
    "---\n",
    "<strong>Examples:</strong>\n",
    "```\n",
    ">>> isGenerateNewIngredient(current_ingredient_pool)\n",
    "True\n",
    "```"
   ]
  },
  {
   "cell_type": "code",
   "execution_count": null,
   "metadata": {},
   "outputs": [],
   "source": [
    "# Step 16a: Create isGenerateNewIngredient function"
   ]
  },
  {
   "cell_type": "code",
   "execution_count": null,
   "metadata": {},
   "outputs": [],
   "source": [
    "# Step 16b: Test isGenerateNewIngredient with current_ingredient_pool"
   ]
  },
  {
   "cell_type": "markdown",
   "metadata": {},
   "source": [
    "<details>\n",
    "    <summary><strong>Click once for our isGenerateNewIngredient code</strong></summary>\n",
    "    <img src = 'https://uplevelsg.s3.ap-southeast-1.amazonaws.com/ProjectCuisineNetwork/isGenerateNewIngredientFullCodeV2.png'>\n",
    "</details>"
   ]
  },
  {
   "cell_type": "markdown",
   "metadata": {},
   "source": [
    "### Step 17: Create cuisineInteraction function\n",
    "The final piece to the entire simulation. Let's take a look at the publication.\n",
    "\n",
    "![cuisineInteractionSteps](https://uplevelsg.s3.ap-southeast-1.amazonaws.com/ProjectCuisineNetwork/cuisineInteractionSteps.png)\n",
    "\n",
    "Let's unpack this a little:\n",
    "<ol>\n",
    "    <li style=\"color: red;\"><span style=\"color: black;\">Choose a main cuisine c, and choose another cuisine c' to interact. In the interaction, c will copy a random recipe from c'</span></li>\n",
    "    <li style=\"color: green;\"><span style=\"color: black;\">Randomly choose an ingredient i from the random recipe, and compare it with ingredient j which was randomly chosen from the current ingredient pool</span></li>\n",
    "    <li style=\"color: blue;\"><span style=\"color: black;\">If the random ingredient j from the current ingredient pool has higher fitness compared to the ingredient i, we replace the ingredient i in the random recipe with ingredient j</span></li>\n",
    "    <li style=\"color: orange;\"><span style=\"color: black;\">Do this twice</span></li>\n",
    "    <li style=\"color: purple;\"><span style=\"color: black;\">Create an Ingredient object and add it to the current ingredient pool. Take the random recipe chosen earlier, and replace the Ingredient with lowest fitness in the recipe with the new Ingredient object as well</span></li>\n",
    "    <li style=\"color: black;\"><span style=\"color: black;\">Add the modified new recipe into cuisine c's list of recipes. If no new ingredients were added in the previous step, then the copied recipe is just added to cuisine c's recipes</span></li>\n",
    "</ol>\n",
    "\n",
    "It might be a bit overwhelming, so we prepared a skeleton for you below - click it and download the .py file for assistance.\n",
    "\n",
    "If you're still overwhelmed, no worries we have the full code for you (try really hard first ok). "
   ]
  },
  {
   "cell_type": "code",
   "execution_count": null,
   "metadata": {},
   "outputs": [],
   "source": [
    "# Step 17: Create cuisineInteraction function"
   ]
  },
  {
   "cell_type": "markdown",
   "metadata": {},
   "source": [
    "<details>\n",
    "    <summary><strong>Click once to download the skeleton of the function</strong></summary>\n",
    "    Click <a href = 'https://uplevelsg.s3.ap-southeast-1.amazonaws.com/ProjectCuisineNetwork/cuisineInteractionSkeleton.py'>here</a> for the skeleton\n",
    "</details>"
   ]
  },
  {
   "cell_type": "markdown",
   "metadata": {},
   "source": [
    "<details>\n",
    "    <summary><strong>Still having a hard time? Click once to download the full code</strong></summary>\n",
    "    Click <a href = 'https://uplevelsg.s3.ap-southeast-1.amazonaws.com/ProjectCuisineNetwork/cuisineInteractionFull.py'>here</a> for the full code\n",
    "</details>"
   ]
  },
  {
   "cell_type": "markdown",
   "metadata": {},
   "source": [
    "## Putting it all together\n",
    "You've worked hard! \n",
    "\n",
    "Now that you've prepared all of the pieces, it's time to combine them into a single simulation.\n",
    "\n",
    "Now's the time to let the pieces fall into place. In our case, the entire simulation was only 9 lines long, after using the helper functions."
   ]
  },
  {
   "cell_type": "markdown",
   "metadata": {},
   "source": [
    "### Step 18: Start the simulation\n",
    "The simulation runs until the number of recipes in all cuisines reaches N_r. Using a while loop with the getNrt function is useful here.\n",
    "\n",
    "In each round of the loop:\n",
    "1. Choose the main cuisine with chooseChuisine\n",
    "2. If interactBoolean returns true, choose another Cuisine using chooseAnotherCuisine\n",
    "3. Following that, use cuisineInteraction function to model the interaction\n",
    "4. Otherwise, just create a new Recipe and add it into the main cuisine's recipes attribute\n",
    "\n",
    "<font color = 'red'><strong>Note that you <em>might</em> run into a ZeroDivisionError but as long as your getNrt(cuisine_list) has a number that is close to N_r at the end of the simulation, it is ok</strong></font>"
   ]
  },
  {
   "cell_type": "code",
   "execution_count": null,
   "metadata": {
    "scrolled": true
   },
   "outputs": [],
   "source": [
    "# Step 18: Run the simulation"
   ]
  },
  {
   "cell_type": "markdown",
   "metadata": {},
   "source": [
    "<details>\n",
    "    <summary><strong>Click once for pseudocode</strong></summary>\n",
    "    <ul>\n",
    "        <li>Use a while loop, and while getNrt(cuisine_list) is less than N_r:</li>\n",
    "        <ul>\n",
    "            <li>Declare the variable for the main cuisine, using chooseCuisine</li>\n",
    "            <li>If interactBoolean returns True:</li>\n",
    "            <ul>\n",
    "                <li>Declare a variable for another cuisine, using chooseAnotherCuisine</li>\n",
    "                <li>Run cuisineInteraction</li>\n",
    "            </ul>\n",
    "            <li>Else if interactBoolean returns False:</li>\n",
    "            <ul>\n",
    "                <li>Create a new Recipe object</li>\n",
    "                <li>Populate it with ingredients from the current ingredient pool</li>\n",
    "                <li>Append the new recipe into the main cuisine</li>\n",
    "            </ul>\n",
    "        </ul>\n",
    "    </ul>\n",
    "</details>"
   ]
  },
  {
   "cell_type": "markdown",
   "metadata": {},
   "source": [
    "<details>\n",
    "    <summary><strong>Click once for our full simulation code</strong></summary>\n",
    "    <img src = 'https://uplevelsg.s3.ap-southeast-1.amazonaws.com/ProjectCuisineNetwork/SimulationFullCode.png'>\n",
    "</details>"
   ]
  },
  {
   "cell_type": "markdown",
   "metadata": {},
   "source": [
    "## Comparing the results\n",
    "Now that you've successfully completed the simulation, it's time to compare the results of the simulation with real-world results.\n",
    "\n",
    "You will need to refer to Steps 15-16 from Part II and create plot the frequency distribution.\n",
    "\n",
    "Following that, you will also need the CSV that you exported from Part II Step 17 so you can compare your simulation frequency distribution with real-life data."
   ]
  },
  {
   "cell_type": "markdown",
   "metadata": {},
   "source": [
    "### Step 19: Get a DataFrame of the frequency of ingredients\n",
    "You now have a list of cuisines, with a number of recipes in each cuisine. \n",
    "\n",
    "From the recipes in all cuisines, extract all of the ingredients and append them into a single list.\n",
    "\n",
    "From the single list, create a DataFrame containing the unique ids of the ingredients, and the corresponding frequency of that ingredient.\n",
    "\n",
    "In our own run, this is what we got:\n",
    "\n",
    "![SimulationFrequencyDataFrame](https://uplevelsg.s3.ap-southeast-1.amazonaws.com/ProjectCuisineNetwork/SimulationFrequencyDataFrame.png)\n",
    "\n",
    "Yours will be different, since the simulation is a random process."
   ]
  },
  {
   "cell_type": "code",
   "execution_count": null,
   "metadata": {},
   "outputs": [],
   "source": [
    "# Step 19: Create a DataFrame of frequenc of ingredient IDs"
   ]
  },
  {
   "cell_type": "markdown",
   "metadata": {},
   "source": [
    "### Step 20: Plot simulation power law plot\n",
    "Similar to what you did in Part II, use the powerlaw library to help you plot a power law plot of the frequency column of the DataFrame you created using simulation data."
   ]
  },
  {
   "cell_type": "code",
   "execution_count": null,
   "metadata": {},
   "outputs": [],
   "source": [
    "# Step 20: Plot the power law plot"
   ]
  },
  {
   "cell_type": "markdown",
   "metadata": {},
   "source": [
    "<details>\n",
    "    <summary><strong>Click here once to see what we got</strong></summary>\n",
    "    <img src=\"https://uplevelsg.s3.ap-southeast-1.amazonaws.com/ProjectCuisineNetwork/SimulationPowerLawPlot.png\">\n",
    "</details>"
   ]
  },
  {
   "cell_type": "markdown",
   "metadata": {},
   "source": [
    "### Step 21: Plot real data and simulation data together\n",
    "The power law plot plotted using the simulation data should look okay, but it still remains whether the frequency of ingredients resembled real life data.\n",
    " \n",
    "As such, read the CSV that you got from Part II Step 17 into a DataFrame, extract the 'frequency' column, and plot the powerplot using both simulated and real data together.\n",
    "\n",
    "Does your simulation data agree with real life data?"
   ]
  },
  {
   "cell_type": "code",
   "execution_count": null,
   "metadata": {},
   "outputs": [],
   "source": [
    "# Step 21a: Read the CSV from Part II Step 17"
   ]
  },
  {
   "cell_type": "code",
   "execution_count": null,
   "metadata": {},
   "outputs": [],
   "source": [
    "# Step 21b: Plot the power law plot with both real and simulation data"
   ]
  },
  {
   "cell_type": "markdown",
   "metadata": {},
   "source": [
    "<details>\n",
    "    <summary><strong>Click here once to see what we got</strong></summary>\n",
    "    <img src=\"https://uplevelsg.s3.ap-southeast-1.amazonaws.com/ProjectCuisineNetwork/RealAndSimulationPowerLawPlot.png\">\n",
    "    <br>\n",
    "    <div>If you executed the simulation properly, you would have succeeded in replicating the author's results and their successes in creating a food evolution model using a simulation</div>\n",
    "</details>"
   ]
  },
  {
   "cell_type": "markdown",
   "metadata": {},
   "source": [
    "# The End\n",
    "We are now done with Project Cuisine Network! \n",
    "\n",
    "In this section, we undertook the hardest part of the project yet - creating and replicating a simulation that the authors of the publication designed. It's tough, but we hope you successfully built the simulation.\n",
    "\n",
    "To recap, you have:\n",
    "1. Obtained research data from a published research in a peer-reviewed journal\n",
    "2. Replicated the results of the research through your own coding\n",
    "3. Constructed a simulation using specifications and parameters specified by the authors\n",
    "\n",
    "This entire project series was immensely challenging, and we hope this project series has UpLevelled you and your skills.\n",
    "\n",
    "Whatever you learn here is but a tip of the iceberg, and launchpad for bigger and better things to come.\n",
    "\n",
    "Come join us in our Telegram community over at https://bit.ly/UpLevelSG and our Facebook page at https://fb.com/UpLevelSG\n",
    "\n",
    "Most importantly, UpLevel won't be what it is today without learners like yourself so help us grow by spreading the word and get more subscribers <3"
   ]
  }
 ],
 "metadata": {
  "kernelspec": {
   "display_name": "Python 3",
   "language": "python",
   "name": "python3"
  },
  "language_info": {
   "codemirror_mode": {
    "name": "ipython",
    "version": 3
   },
   "file_extension": ".py",
   "mimetype": "text/x-python",
   "name": "python",
   "nbconvert_exporter": "python",
   "pygments_lexer": "ipython3",
   "version": "3.8.3"
  }
 },
 "nbformat": 4,
 "nbformat_minor": 4
}

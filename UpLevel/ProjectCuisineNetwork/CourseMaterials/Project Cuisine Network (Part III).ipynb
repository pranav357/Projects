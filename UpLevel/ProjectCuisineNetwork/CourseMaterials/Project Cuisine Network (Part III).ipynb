{
 "cells": [
  {
   "cell_type": "markdown",
   "metadata": {},
   "source": [
    "# Introduction\n",
    "In Part II, we went on a long journey to piece together the information in each cuisine and replicated the figures found in the \"Data and Method\" section.\n",
    "\n",
    "In this Part, we will continue replicating the results found by the authors of the research paper in the \"Results\" section.\n",
    "\n",
    "More specifically, you will:\n",
    "1. Prepare a TF-IDF vector of ingredient usage across recipes\n",
    "2. Perform Principal Component Analysis (PCA) for dimensionality reduction on the dataset\n",
    "3. \n",
    "\n",
    "<font color = 'red'><strong>Disclaimer: there will be sections where we won't be able to replicate entirely, but that is ok because of variation in coding language used and ambiguity in source instructions. For most parts, the conclusions are consistent and valid.</strong></font>"
   ]
  },
  {
   "cell_type": "markdown",
   "metadata": {},
   "source": [
    "### Step 1: Import libraries\n",
    "For this Part, these are the libraries we need:\n",
    "- pandas as pd\n",
    "- glob\n",
    "- matplotlib.pyplot as plt\n",
    "- seaborn as sns\n",
    "- numpy as np\n",
    "- TfidfVectorizer from sklearn.feature_extraction.text\n",
    "- PCA from sklearn.decomposition"
   ]
  },
  {
   "cell_type": "code",
   "execution_count": null,
   "metadata": {},
   "outputs": [],
   "source": [
    "# Step 1: Import libraries"
   ]
  },
  {
   "cell_type": "markdown",
   "metadata": {},
   "source": [
    "### Step 2: Get a list of filenames in 'cuisine_recipe_ingredient_CSV' folder\n",
    "Similar to the last Part's Step 2, we'll need to get a list of all the .csv files in the 'cuisine_recipe_ingredient_CSV' folder using glob.\n"
   ]
  },
  {
   "cell_type": "code",
   "execution_count": null,
   "metadata": {},
   "outputs": [],
   "source": [
    "# Step 2: Get a list of .CSV filenames"
   ]
  },
  {
   "cell_type": "markdown",
   "metadata": {},
   "source": [
    "## Replicate Figure 5\n",
    "We'll start with replicating Figure 5, the first result in the \"Results\" section.\n",
    "\n",
    "![Figure5](https://uplevelsg.s3.ap-southeast-1.amazonaws.com/Figure5.png)\n",
    "\n",
    "Here, the authors created a TF-IDF based ingredient matrix and performed Principal Component Analysis (PCA) for plotting.\n",
    "\n",
    "We'll do the following:\n",
    "1. Read the CSVs and get a list containing ingredients from each cuisine\n",
    "2. Join each list of cuisine ingredient into a string\n",
    "3. Create a DataFrame with the string version of the ingredient\n",
    "4. Perform vectorization with TfidfVectorizer\n",
    "5. Perform PCA\n",
    "6. Plot the PCA components\n",
    "\n",
    "![Figure5Approach](https://uplevelsg.s3.ap-southeast-1.amazonaws.com/ProjectCuisineNetwork/Figure5Approach.png)"
   ]
  },
  {
   "cell_type": "markdown",
   "metadata": {},
   "source": [
    "### Step 3: Get a list of list of ingredients\n",
    "Loop through the filenames from Step 2, read the corresponding CSVs into DataFrame, and append the 'ingredient' column into a list.\n",
    "\n",
    "Your list should only have 20 items."
   ]
  },
  {
   "cell_type": "code",
   "execution_count": null,
   "metadata": {},
   "outputs": [],
   "source": [
    "# Step 3: Get a list of list of ingredients"
   ]
  },
  {
   "cell_type": "markdown",
   "metadata": {},
   "source": [
    "### Step 4: Get a list of cuisine names\n",
    "We'll need a list of the cuisine names, so derive a list containing the cuisine names from the list in Step 2.\n",
    "\n",
    "Alternatively, you can also manually declare a list containing the cuisine names."
   ]
  },
  {
   "cell_type": "code",
   "execution_count": null,
   "metadata": {},
   "outputs": [],
   "source": [
    "# Step 4: Get a list of cuisine names"
   ]
  },
  {
   "cell_type": "markdown",
   "metadata": {},
   "source": [
    "### Step 5: Join the items in each list\n",
    "We will then join the items in each list into a string, and append the strings into a new list.\n",
    "\n",
    "![IngredientTextExample](https://uplevelsg.s3.ap-southeast-1.amazonaws.com/ProjectCuisineNetwork/IngredientTextExample.png)\n",
    "\n",
    "You will have a list containing 20 strings of ingredient ids."
   ]
  },
  {
   "cell_type": "code",
   "execution_count": null,
   "metadata": {},
   "outputs": [],
   "source": [
    "# Step 5: Join the items in each list"
   ]
  },
  {
   "cell_type": "markdown",
   "metadata": {},
   "source": [
    "### Step 6: Create a DataFrame for cuisine name and text\n",
    "Combine the two lists you created in Steps 4-5 to create a DataFrame.\n",
    "\n",
    "![IngredientTextDataFrame](https://uplevelsg.s3.ap-southeast-1.amazonaws.com/ProjectCuisineNetwork/IngredientTextDataFrame.png)\n",
    "\n",
    "It should have:\n",
    "- 20 rows\n",
    "- 2 columns"
   ]
  },
  {
   "cell_type": "code",
   "execution_count": null,
   "metadata": {},
   "outputs": [],
   "source": [
    "# Step 6: Create an ingredient text DataFrame"
   ]
  },
  {
   "cell_type": "markdown",
   "metadata": {},
   "source": [
    "### Step 7: Vectorize 'text' column with TfidfVectorizer\n",
    "We'll turn the column of text into a DataFrame containing the TF-IDF scores of each ingredient. \n",
    "\n",
    "In the context of our project, important and unique ingredients will get a higher score compared to ingredients that are found in recipes across many cuisines.\n",
    "\n",
    "After TF-IDF vectorization with the TfidfVectorizer object, you'll get a sparse matrix.\n",
    "\n",
    "Turn that matrix into a DataFrame that contains:\n",
    "- 20 rows\n",
    "- 2,902 columns\n",
    "\n",
    "P.S. You might have noticed something odd by now, but we'll talk about that in the Optional Step below later."
   ]
  },
  {
   "cell_type": "markdown",
   "metadata": {},
   "source": [
    "<details>\n",
    "    <summary><strong>Click here once for a hint</strong></summary>\n",
    "    <div>Google \"Append tfidf to pandas dataframe\"</div>\n",
    "</details>"
   ]
  },
  {
   "cell_type": "code",
   "execution_count": null,
   "metadata": {},
   "outputs": [],
   "source": [
    "# Step 7: Get a DataFrame of the vectorized ingredients"
   ]
  },
  {
   "cell_type": "markdown",
   "metadata": {},
   "source": [
    "### Step 8: Perform PCA on the TF-IDF DataFrame\n",
    "Now that you've obtained the vectorized ingredient DataFrame, it's time to perform principal component analysis to reduce the dimensions of the data, from 2,000+ columns to only 2 columns/components.\n",
    "\n",
    "![PCAArrays](https://uplevelsg.s3.ap-southeast-1.amazonaws.com/ProjectCuisineNetwork/PCAArrays.png)\n",
    "\n",
    "You should get values close to the ones above after PCA.\n",
    "\n",
    "In addition, your components should account for 40.2% of the variance in the data when you call .explained_variance_ratio. "
   ]
  },
  {
   "cell_type": "code",
   "execution_count": null,
   "metadata": {},
   "outputs": [],
   "source": [
    "# Step 8a: Declare a PCA object with n_components of 2"
   ]
  },
  {
   "cell_type": "code",
   "execution_count": null,
   "metadata": {
    "scrolled": true
   },
   "outputs": [],
   "source": [
    "# Step 8b: Fit transform the DataFrame from Step 7"
   ]
  },
  {
   "cell_type": "code",
   "execution_count": null,
   "metadata": {
    "scrolled": true
   },
   "outputs": [],
   "source": [
    "# Step 8c: Check the sum of the .explained_variance_ratio"
   ]
  },
  {
   "cell_type": "markdown",
   "metadata": {},
   "source": [
    "### Step 9: Turn the PCA array into a DataFrame\n",
    "Now that you have the PCA array, we'll have to tidy it up into a proper DataFrame so we can plot and annotate the data nicely. \n",
    "\n",
    "More specifically, aim for a DataFrame that looks like this:\n",
    "\n",
    "![PCADataFrame](https://uplevelsg.s3.ap-southeast-1.amazonaws.com/ProjectCuisineNetwork/PCADataFrame.png)"
   ]
  },
  {
   "cell_type": "code",
   "execution_count": null,
   "metadata": {},
   "outputs": [],
   "source": [
    "# Step 9: Create a DataFrame using the PCA array"
   ]
  },
  {
   "cell_type": "markdown",
   "metadata": {},
   "source": [
    "### Step 10: Plot the two components\n",
    "Time to plot the graph, and see if it matches Figure 5! \n",
    "\n",
    "Gentle reminder to plot these in a scatterplot:\n",
    "- x-axis: PC-1\n",
    "- y-axis: PC-2\n",
    "\n",
    "It'll be hard to figure out which point is which, so don't forget to <strong>annotate</strong> the points with the names of the corresponding cuisine."
   ]
  },
  {
   "cell_type": "code",
   "execution_count": null,
   "metadata": {},
   "outputs": [],
   "source": [
    "# Step 10: Plot a scatterplot of PC-2 against PC-1"
   ]
  },
  {
   "cell_type": "markdown",
   "metadata": {},
   "source": [
    "<details>\n",
    "    <summary><strong>Did you replicate Figure 5? Click here once to see what we got</strong></summary>\n",
    "    <br>\n",
    "    <img src=\"https://uplevelsg.s3.ap-southeast-1.amazonaws.com/ProjectCuisineNetwork/PCAScatterPlot.png\">\n",
    "    <br>\n",
    "    <div>We managed to get a plot that is similar, but not so similar to Figure 5. That's ok because the general patterns are observed.</div>\n",
    "</details>"
   ]
  },
  {
   "cell_type": "markdown",
   "metadata": {},
   "source": [
    "### Optional: Fix the the vectorization\n",
    "If you noticed, in Step 7, you got a DataFrame with 20 rows and 2,902 columns. Do you see what's wrong? \n",
    "\n",
    "There are 2,911 unique ingredients, which means you should get a DataFrame with 2,911 columns. \n",
    "\n",
    "9 columns are missing, and you will have to investigate. \n",
    "\n",
    "This part is optional because it does not affect the Section's conclusion, i.e. the replication is ok.\n",
    "\n",
    "For the investigation of the columns, there are a few ways you can do it, but here's what we recommend:\n",
    "1. Take the columns from the TF-IDF DataFrame\n",
    "2. Turn it into a set (Set 1)\n",
    "3. Take the list of unique ingredients in the entire dataset\n",
    "4. Turn it into a set (Set 2)\n",
    "5. Get the difference between the two sets"
   ]
  },
  {
   "cell_type": "code",
   "execution_count": null,
   "metadata": {},
   "outputs": [],
   "source": [
    "# Find out what are the missing 9 ingredients"
   ]
  },
  {
   "cell_type": "markdown",
   "metadata": {},
   "source": [
    "### Modify Step 3 to add an underscore to the single digit ingredients\n",
    "That's right! The missing 9 ingredients are numbered 1-9. \n",
    "\n",
    "Somehow, during vectorization, numbers between 1-9 were removed. The way to avoid this is to add an underscore to the numbers, e.g., '1_', '2_', ... , '9_'\n",
    "\n",
    "The easiest place to perform this modification is Step 3, when you were taking the 'ingredient' column from the cuisine DataFrames."
   ]
  },
  {
   "cell_type": "code",
   "execution_count": null,
   "metadata": {},
   "outputs": [],
   "source": [
    "# Perform the modified Step 3"
   ]
  },
  {
   "cell_type": "markdown",
   "metadata": {},
   "source": [
    "### Repeat Steps 5-10 with modified data\n",
    "Now that you're done adding an underscore to the single digits, this is what you'll see after Step 6:\n",
    "\n",
    "![IngredientTextDataFrameModified](https://uplevelsg.s3.ap-southeast-1.amazonaws.com/ProjectCuisineNetwork/IngredientTextDataFrameModified.png)\n",
    "\n",
    "Once you get this, proceed with the subsequent steps and you'll get a vectorized DataFrame of 20 rows with 2,911 rows. After that, plot the scatterplot of the PCA components again. \n",
    "\n",
    "Is there any difference?"
   ]
  },
  {
   "cell_type": "code",
   "execution_count": null,
   "metadata": {},
   "outputs": [],
   "source": [
    "# Repeat Steps 5-10"
   ]
  },
  {
   "cell_type": "markdown",
   "metadata": {},
   "source": [
    "## Replicate Figure 6\n",
    "Now that we have replicated Figure 5 successfully, it's time to analyze Figure 6. \n",
    "\n",
    "In Figure 6, the authors wanted to see the relationship between topological distance of cuisine nodes and physical distance. \n",
    "\n",
    "![Figure6](https://uplevelsg.s3.ap-southeast-1.amazonaws.com/ProjectCuisineNetwork/Figure6.png)\n",
    "\n",
    "This culminates in a boxplot, where there is a correlation between the two. \n",
    "\n",
    "We will replicate Figure 6 using the data from the following files:\n",
    "- ```Chinese-cuisine-master/code/data/real_result/geographic distance.txt```\n",
    "- ```Chinese-cuisine-master/code/data/real_result/topological distance.txt```\n",
    "\n",
    "You can find these files if you unzipped the entire folder from the Github repository."
   ]
  },
  {
   "cell_type": "markdown",
   "metadata": {},
   "source": [
    "### Step 11: Read \"geographic distance.txt\" into a DataFrame\n",
    "Use .read_csv to read the geographic distance file (yes you can use that to read txt files).\n",
    "\n",
    "![GeographicDistanceDataFrame](https://uplevelsg.s3.ap-southeast-1.amazonaws.com/ProjectCuisineNetwork/GeographicalDistanceDataFrame.png)\n",
    "\n",
    "Figure out what's a good character to use for the <strong>sep</strong> parameter, and make sure you don't have any header in your DataFrame.\n",
    "\n",
    "You'll have a 20 x 20 symmterical DataFrame of the distances. "
   ]
  },
  {
   "cell_type": "code",
   "execution_count": null,
   "metadata": {},
   "outputs": [],
   "source": [
    "# Step 11: Read 'geographic distance.txt' into a DataFrame"
   ]
  },
  {
   "cell_type": "markdown",
   "metadata": {},
   "source": [
    "### Step 12: Read \"topological distance.txt\" into a DataFrame\n",
    "You know the drill - next read 'topological distance.txt' into a DataFrame.\n",
    "\n",
    "![TopologicalDistanceDataFrame](https://uplevelsg.s3.ap-southeast-1.amazonaws.com/ProjectCuisineNetwork/TopologicalDistanceDataFrame.png)\n",
    "\n",
    "You'll get a 20 x 20 DataFrame containing the topological distances, and this time the DataFrame is asymmetrical."
   ]
  },
  {
   "cell_type": "code",
   "execution_count": null,
   "metadata": {},
   "outputs": [],
   "source": [
    "# Step 12: Read 'topogical distance.txt' into a DataFrame"
   ]
  },
  {
   "cell_type": "markdown",
   "metadata": {},
   "source": [
    "### Step 13: Combine the two DataFrames together\n",
    "The values at positions $i$, $j$ in one DataFrame corresponds to another.\n",
    "\n",
    "For example, $geodist_{1,0}$ corresponds to $topodist_{1,0}$, with 1309.90 and 3 respectively.\n",
    "\n",
    "![TopoGeoDataFrame](https://uplevelsg.s3.ap-southeast-1.amazonaws.com/ProjectCuisineNetwork/TopoGeoDataFrame.png)\n",
    "\n",
    "We'll have to create a DataFrame that contains the topological distance of the cuisines and the corresponding geographical distance.\n",
    "\n",
    "It will have:\n",
    "- 190 rows\n",
    "- 2 columns"
   ]
  },
  {
   "cell_type": "code",
   "execution_count": null,
   "metadata": {},
   "outputs": [],
   "source": [
    "# Step 13: Combine the two DataFrames together"
   ]
  },
  {
   "cell_type": "markdown",
   "metadata": {},
   "source": [
    "<details>\n",
    "    <summary><strong>Click here once for pseudocode</strong></summary>\n",
    "    <ol>\n",
    "        <li>Declare an empty list (List_1)</li>\n",
    "        <li>Declare another empty list (List_2)</li>\n",
    "        <li>Use a for loop in the range with topo/geo DataFrame's length. In each loop (Loop_1):</li>\n",
    "        <ol>\n",
    "            <li>Use another for loop in the range with topo/geo DataFrame's length. In each loop (Loop_2)</li>\n",
    "            <ol>\n",
    "                <li>If Loop_1's current value (Value_1) is more than Loop_2's current value (Value_2):</li>\n",
    "                <ul>\n",
    "                    <li>Use iloc to find what the value is at position (Value_1, Value_2) for the topo DataFrame</li>\n",
    "                    <li>Append that value into List_1</li>\n",
    "                    <li>Do the same for positon (Value_1, Value_2) for geo DataFrame</li>\n",
    "                    <li>Append that value into List_2</li>\n",
    "                </ul>\n",
    "            </ol>\n",
    "        </ol>\n",
    "        <li>Use List_1 and List_2 to create a DataFrame</li>\n",
    "    </ol>\n",
    "</details>"
   ]
  },
  {
   "cell_type": "markdown",
   "metadata": {},
   "source": [
    "### Step 14: Remove rows that contain 0\n",
    "Before we plot the boxplot, let's remove any rows that contain 0. The reason why there are rows with 0 is because rows with 0 fall under \"other\" cuisine. \n",
    "\n",
    "You'll end up with a DataFrame with:\n",
    "- 171 rows\n",
    "- 2 columns"
   ]
  },
  {
   "cell_type": "code",
   "execution_count": null,
   "metadata": {},
   "outputs": [],
   "source": [
    "# Step 14: Remove rows containing 0"
   ]
  },
  {
   "cell_type": "markdown",
   "metadata": {},
   "source": [
    "### Step 15: Plot a boxplot\n",
    "The moment of truth.\n",
    "\n",
    "Plot your boxplot with topological distance at the x-axis and physical distance at the y-axis."
   ]
  },
  {
   "cell_type": "code",
   "execution_count": null,
   "metadata": {
    "scrolled": true
   },
   "outputs": [],
   "source": [
    "# Step 15: Plot a boxplot"
   ]
  },
  {
   "cell_type": "markdown",
   "metadata": {},
   "source": [
    "### Step 16: Modify physical distance\n",
    "The boxplot looks like Figure 6, but the values are slightly off.\n",
    "\n",
    "To match Figure 6 completely, you'll have to multiply the values in the list with physical distance by 2."
   ]
  },
  {
   "cell_type": "code",
   "execution_count": null,
   "metadata": {},
   "outputs": [],
   "source": [
    "# Step 16: Multiply list with physical distance by 2"
   ]
  },
  {
   "cell_type": "markdown",
   "metadata": {},
   "source": [
    "### Step 17: Plot the boxplot again\n",
    "Now that you've multipliedd the values of the physical distance by 2, time to replot the boxplot and see if it matches Figure 6."
   ]
  },
  {
   "cell_type": "code",
   "execution_count": null,
   "metadata": {},
   "outputs": [],
   "source": [
    "# Step 17: Plot boxplot"
   ]
  },
  {
   "cell_type": "markdown",
   "metadata": {},
   "source": [
    "<details>\n",
    "    <summary><strong>What'd you think? Click once to see what we think</strong></summary>\n",
    "    <div>While we were able to replicate the Figure completely, it's also useful to investigate if it is \"correct\" to multiply the distances like that.</div>\n",
    "    <br>\n",
    "    <div>We won't give anything away, but you can try to investigate which of the distances is correct, i.e. pre-multiplication or post-multiplication.</div>\n",
    "</details>"
   ]
  },
  {
   "cell_type": "markdown",
   "metadata": {},
   "source": [
    "## Replicate Figure 7\n",
    "Next up, the authors plotted the number of spices per recipe vs mean annual temperature of the locations of the cuisines.\n",
    "\n",
    "![Figure7](https://uplevelsg.s3.ap-southeast-1.amazonaws.com/ProjectCuisineNetwork/Figure7.png)\n",
    "\n",
    "The data that we need are located in four places:\n",
    "- ```Chinese-cuisine-master/code/data/real_result/climate.txt```\n",
    "- The .txt files in ```Chinese-cuisine-master/code/data/network/meat-based recipe/```\n",
    "- The list of spice IDs in ```Chinese-cuisine-master/code/cal_spices_temperature.m```\n",
    "- The CSV files in ```cuisine_recipe_ingredient_CSV```"
   ]
  },
  {
   "cell_type": "markdown",
   "metadata": {},
   "source": [
    "### Step 18: Read climate.txt into a DataFrame\n",
    "Firstly, read climate.txt into a DataFrame. You might have to figure out what additional parameters to use if you're stuck.\n",
    "\n",
    "If you do it successfully, you'll have a DataFrame that has:\n",
    "- 20 rows\n",
    "- 2 columns"
   ]
  },
  {
   "cell_type": "code",
   "execution_count": null,
   "metadata": {},
   "outputs": [],
   "source": [
    "# Step 18: Read climate.txt into a DataFrame"
   ]
  },
  {
   "cell_type": "markdown",
   "metadata": {},
   "source": [
    "<details>\n",
    "    <summary><strong>Click here once for a hint</strong></summary>\n",
    "    <div>Google \"How to make separator in pandas read_csv more flexible wrt whitespace, for irregular separators?\"</div>\n",
    "</details>"
   ]
  },
  {
   "cell_type": "markdown",
   "metadata": {},
   "source": [
    "### Step 19: Get lists from cal_spices_temperature \n",
    "We'll also need to get two lists from ```cal_spices_temperature.m```:\n",
    "- spice_id\n",
    "- caixi_name\n",
    "\n",
    "spice_id contains the ingredient ids of spices, which we wil need later. This list will have 213 items.\n",
    "\n",
    "caixi_name contains the names of the cuisines. This list will have 20 items."
   ]
  },
  {
   "cell_type": "code",
   "execution_count": null,
   "metadata": {},
   "outputs": [],
   "source": [
    "# Step 19: Get lists from cal_spices_temperature"
   ]
  },
  {
   "cell_type": "markdown",
   "metadata": {},
   "source": [
    "### Step 20: Add caixi_name into Step 18 DataFrame and sort\n",
    "Add caixi_name into the DataFrame from Step 18 as a column called \"cuisine\".\n",
    "\n",
    "After that, sort the DataFrame by \"cuisine\" column in an alphabetical order. \n",
    "\n",
    "![TemperatureDataFrame](https://uplevelsg.s3.ap-southeast-1.amazonaws.com/ProjectCuisineNetwork/TemperatureDataFrame.png)"
   ]
  },
  {
   "cell_type": "code",
   "execution_count": null,
   "metadata": {},
   "outputs": [],
   "source": [
    "# Step 20a: Add a column named \"cuisine\" using caixi_name"
   ]
  },
  {
   "cell_type": "code",
   "execution_count": null,
   "metadata": {},
   "outputs": [],
   "source": [
    "# Step 20b: Sort the DataFrame by 'cuisine'"
   ]
  },
  {
   "cell_type": "markdown",
   "metadata": {},
   "source": [
    "### Step 21: Get lists of filenames\n",
    "Using glob, get a list of filenames for two folders:\n",
    "- ```cuisine_recipe_ingredient_CSV```\n",
    "- ```Chinese-cuisine-master/code/data/network/meat-based recipe```"
   ]
  },
  {
   "cell_type": "code",
   "execution_count": null,
   "metadata": {},
   "outputs": [],
   "source": [
    "# Step 21: Get a list of .CSV filenames"
   ]
  },
  {
   "cell_type": "markdown",
   "metadata": {},
   "source": [
    "![Figure7Strategy](https://uplevelsg.s3.ap-southeast-1.amazonaws.com/ProjectCuisineNetwork/Figure7Strategy.png)\n",
    "\n",
    "Why have we done the things we've done so far? We'll need to do the following steps because according to the publication, this is what's going to happen:\n",
    "1. Go through each cuisine\n",
    "2. In each cuisine, pick on recipe_id that contains meat\n",
    "3. In each recipe_id that contains meat, count how many spices appear\n",
    "4. Get the average number of spices per cuisine\n",
    "\n",
    "### Step 22: Read the first meat-based recipe txt\n",
    "We'll take a look at the first meat-based recipe txt. If you used glob, the list will be sorted alphabetically and the first txt file is for the chuan cuisine.\n",
    "\n",
    "Read the .txt file into a DataFrame. You'll have a DataFrame that has:\n",
    "- 890 rows\n",
    "- 1 column"
   ]
  },
  {
   "cell_type": "code",
   "execution_count": null,
   "metadata": {},
   "outputs": [],
   "source": [
    "# Step 22: Read the first meat-based recipe txt"
   ]
  },
  {
   "cell_type": "markdown",
   "metadata": {},
   "source": [
    "### Step 23: Filter the first DataFrame\n",
    "Read the first CSV in the cuisine list - chuan.csv - into a DataFrame. \n",
    "\n",
    "Filter the DataFrame using the list of recipe ids found in Step 22.\n",
    "\n",
    "The chuan DataFrame starts with 12,068 rows but ends up with 9,753 rows after filtering for recipe_id that contains meat."
   ]
  },
  {
   "cell_type": "code",
   "execution_count": null,
   "metadata": {},
   "outputs": [],
   "source": [
    "# Step 23: Filter the chuan DataFrame "
   ]
  },
  {
   "cell_type": "markdown",
   "metadata": {},
   "source": [
    "<details>\n",
    "    <summary><strong>Click here once for a hint</strong></summary>\n",
    "    <div>Google \"Filter dataframe rows if value in column is in a set list of values\"</div>\n",
    "</details>"
   ]
  },
  {
   "cell_type": "markdown",
   "metadata": {},
   "source": [
    "### Step 24: Get a list of filtered meat DataFrames\n",
    "Now that you've got the idea, let's loop through all of the CSVs, create DataFrames, and filter them before appending them into a list.\n",
    "\n",
    "You'll have a list of 20 filtered DataFrames."
   ]
  },
  {
   "cell_type": "code",
   "execution_count": null,
   "metadata": {
    "scrolled": true
   },
   "outputs": [],
   "source": [
    "# Step 24: Get a list of filtered DataFrames"
   ]
  },
  {
   "cell_type": "markdown",
   "metadata": {},
   "source": [
    "<details>\n",
    "    <summary><strong>Click here once for pseudocode</strong></summary>\n",
    "    <ol>\n",
    "        <li>Declare an empty list (List_1)</li>\n",
    "        <li>Use a for loop in the range with cuisine list length. In each loop (Loop_1):</li>\n",
    "        <ul>\n",
    "            <li>Read the cuisine csv into a DataFrame (DF_1)</li>\n",
    "            <li>Read the meat-recipe into a DataFrame (DF_2)</li>\n",
    "            <li>Get the list of recipe id with meat from DF_2</li>\n",
    "            <li>Filter DF_2 with the list (DF_3)</li>\n",
    "            <li>Append DF_3 into List_1</li>\n",
    "        </ul>\n",
    "    </ol>\n",
    "</details>"
   ]
  },
  {
   "cell_type": "markdown",
   "metadata": {},
   "source": [
    "### Step 25: Get average number of spices per recipe in one filtered cuisine\n",
    "Let's check out the average number of spices per recipe in the first filtered cuisine - chuan cuisine with meat only.\n",
    "\n",
    "There are a few ways to do it, and the easiest approach you can consider is:\n",
    "- get a list of unique recipe_id\n",
    "- loop through the unique ids\n",
    "- filter the DataFrame to contain the current id only\n",
    "- from the filtered DataFrame, keep count of how many spices are found in the ingredient\n",
    "- get the average value of the spice count\n",
    "\n",
    "Using the first item in the list from Step 24, i.e. chuan-meat, you will have:\n",
    "- 890 unique recipe_ids of dishes with meat\n",
    "- 3.275 spices used per recipe_id"
   ]
  },
  {
   "cell_type": "code",
   "execution_count": null,
   "metadata": {
    "scrolled": true
   },
   "outputs": [],
   "source": [
    "# Step 25: Get the average number of spices per recipe in one cuisine"
   ]
  },
  {
   "cell_type": "markdown",
   "metadata": {},
   "source": [
    "<details>\n",
    "    <summary><strong>Click here once for pseudocode</strong></summary>\n",
    "    <ol>\n",
    "        <li>Declare a variable to store the first item in the list of DataFrames from Step 24</li>\n",
    "        <li>Get the 'recipe_id' column, and get a list of unique recipe_id with .unique() (List_1)</li>\n",
    "        <li>Declare an empty list (List_2) to store the number of spice per recipe_id</li>\n",
    "        <li>Use a for loop to loop through each item in List_1. In each loop:</li>\n",
    "        <ul>\n",
    "            <li>Declare a variable containing an initial value of zero (Var_1)</li>\n",
    "            <li>Filter the DataFrame to contain only the current recipe_id value and assign it to a variable (Var_2)</li>\n",
    "            <li>Get the list of ingredients from Var_2's 'ingredient' column (List_3)</li>\n",
    "            <li>Use a for loop to loop through List_3. In each loop:</li>\n",
    "            <ul>\n",
    "                <li>Check if the current ingredient is in the list of spices from Step 19. If it is:</li>\n",
    "                <ul>\n",
    "                    <li>Increment Var_1 by 1</li>\n",
    "                </ul>\n",
    "            </ul>\n",
    "            <li>Append Var_1 into List_2</li>\n",
    "        </ul>\n",
    "        <li>Take the sum of List_2 and divide it by the lenght of List_2 to get your average number of spices used per recipe_id in a cuisine</li>\n",
    "    </ol>\n",
    "</details>"
   ]
  },
  {
   "cell_type": "markdown",
   "metadata": {},
   "source": [
    "### Step 26: Get average number of spices used per recipe for all cuisines\n",
    "Now that you've successfully completed the calculation for one cuisine, it's time to do it for the rest of the cuisines.\n",
    "\n",
    "![AverageSpicePerCuisineList](https://uplevelsg.s3.ap-southeast-1.amazonaws.com/ProjectCuisineNetwork/AverageSpicePerCuisineList.png)\n",
    "\n",
    "You'll end up with a list containing 20 averages. "
   ]
  },
  {
   "cell_type": "code",
   "execution_count": null,
   "metadata": {},
   "outputs": [],
   "source": [
    "# Step 26: Get average number of spices used per recipe for cuisines"
   ]
  },
  {
   "cell_type": "markdown",
   "metadata": {},
   "source": [
    "### Step 27: Add the spice average to temperature DataFrame\n",
    "Create a new column in the DataFrame that you got from Step 20 called \"average_spice_num\" using the list you got from Step 26."
   ]
  },
  {
   "cell_type": "code",
   "execution_count": null,
   "metadata": {},
   "outputs": [],
   "source": [
    "# Step 27: Update your Step 20 DataFrame"
   ]
  },
  {
   "cell_type": "markdown",
   "metadata": {},
   "source": [
    "### Step 28: Remove the row with 'other' data\n",
    "Before we plot the temperature and average spice number, remove the row with \"other\". \n",
    "\n",
    "That is because the temperature for 'other' is 0, which will mess your scatterplot up later."
   ]
  },
  {
   "cell_type": "code",
   "execution_count": null,
   "metadata": {},
   "outputs": [],
   "source": [
    "# Step 28: Remove 'other' data"
   ]
  },
  {
   "cell_type": "markdown",
   "metadata": {},
   "source": [
    "### Step 29: Plot average_spice_num against temperature\n",
    "The last Step before we call it a day for this Part - plotting average_spice_num against temperature in a scatterplot."
   ]
  },
  {
   "cell_type": "code",
   "execution_count": null,
   "metadata": {},
   "outputs": [],
   "source": [
    "# Step 29: Plot average_spice_num against temperature"
   ]
  },
  {
   "cell_type": "markdown",
   "metadata": {},
   "source": [
    "<details>\n",
    "    <summary><strong>What'd you get? Click here to see what we got</strong></summary>\n",
    "    <img src = 'https://uplevelsg.s3.ap-southeast-1.amazonaws.com/ProjectCuisineNetwork/Figure7vsReproduction.png'>\n",
    "    <br>\n",
    "    <div>The reproduction is slightly different from Figure 7, but the pattern remains the same, i.e. there is no correlation between the number of spices in the meat dishes in cuisines and the temperature of the different regions.</div>\n",
    "</details>"
   ]
  },
  {
   "cell_type": "markdown",
   "metadata": {},
   "source": [
    "### End of Part III\n",
    "What a Part! If you have successfully (sort of) replicated all of the figures in the paper, well done to you! If you haven't yet, no worries and come back to the different Sections when you can.\n",
    "\n",
    "To recap, you have successfully:\n",
    "1. Prepared a TF-IDF vector of ingredient usage across recipes\n",
    "2. Performed Principal Component Analysis (PCA) for dimensionality reduction on the dataset\n",
    "3. Combined data from different sources together for visualization\n",
    "\n",
    "In the next Part, we will work on replicating the most exciting (and hardest) part of the paper - a simulation that models cuisine evolution in a geographical region.\n",
    "\n",
    "Put on your best Python hat and head on to Part IV."
   ]
  }
 ],
 "metadata": {
  "kernelspec": {
   "display_name": "Python 3",
   "language": "python",
   "name": "python3"
  },
  "language_info": {
   "codemirror_mode": {
    "name": "ipython",
    "version": 3
   },
   "file_extension": ".py",
   "mimetype": "text/x-python",
   "name": "python",
   "nbconvert_exporter": "python",
   "pygments_lexer": "ipython3",
   "version": "3.8.3"
  }
 },
 "nbformat": 4,
 "nbformat_minor": 4
}
